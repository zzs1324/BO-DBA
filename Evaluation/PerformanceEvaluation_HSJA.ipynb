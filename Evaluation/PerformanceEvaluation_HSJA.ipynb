{
 "cells": [
  {
   "cell_type": "code",
   "execution_count": null,
   "id": "76aef015",
   "metadata": {},
   "outputs": [],
   "source": [
    "from warnings import simplefilter \n",
    "simplefilter(action='ignore', category=FutureWarning)\n",
    "import random\n",
    "from  keras.preprocessing.image import save_img\n",
    "import tensorflow as tf\n",
    "import numpy as np\n",
    "import matplotlib as mpl\n",
    "import matplotlib.pyplot as plt\n",
    "from PIL import Image\n",
    "import io\n",
    "import os\n",
    "import yaml\n",
    "from Util import *\n",
    "from AdversarialAttack import *\n",
    "from IPython import display\n",
    "%matplotlib inline"
   ]
  },
  {
   "cell_type": "code",
   "execution_count": null,
   "id": "ccc6d228",
   "metadata": {},
   "outputs": [],
   "source": [
    "#Global configuration\n",
    "attackMode = 'Raw' #Raw: means without defense, Detection: With adversarial exmaples detection\n",
    "queryBudgets = 500 #Query Budgets\n",
    "NumberOfTest = 100 #Number of test images\n",
    "random.seed(42) #Set random seeds"
   ]
  },
  {
   "cell_type": "code",
   "execution_count": null,
   "id": "21cd818c",
   "metadata": {},
   "outputs": [],
   "source": [
    "#Prepare test images\n",
    "File,ImgPre = ResultSave('HSJA','./Result')#Result saving folder and filename\n",
    "ImgSet=[]\n",
    "if os.path.isfile(File):\n",
    "    HISTORY = LOAD(File)#Load Checkpoint\n",
    "else:\n",
    "    HISTORY = []\n",
    "StartPoint=len(HISTORY)\n",
    "for i in range(NumberOfTest):\n",
    "    ImgSet.append(randomimg(mode=attackMode))\n",
    "display_images(ImgSet[-1].img)"
   ]
  },
  {
   "cell_type": "code",
   "execution_count": null,
   "id": "b5356e69",
   "metadata": {},
   "outputs": [],
   "source": [
    "#Run the experiments\n",
    "constraint = 'linf'#norm: l2; linf\n",
    "for i in range(len(HISTORY),NumberOfTest):\n",
    "    print(\"round \"+str(i),end=': ')\n",
    "    image = ImgSet[i]\n",
    "    if i<StartPoint:\n",
    "        continue\n",
    "    with tf.device('/GPU:0'): \n",
    "        success,returning,History,result = hsja(image,constraint=constraint,max_query=queryBudgets)\n",
    "    if success:\n",
    "        np.save(ImgPre+str(i),returning)\n",
    "    print('Attack sucess: {0}, L2:{1}, Linf:{2}'.format(success,result[0],result[1]))\n",
    "    HISTORY.append(History)\n",
    "    SAVE(File,HISTORY)\n"
   ]
  },
  {
   "cell_type": "code",
   "execution_count": null,
   "id": "9782b06c",
   "metadata": {},
   "outputs": [],
   "source": [
    "from Visualization import Result\n",
    "Valid=100\n",
    "fontsize=20\n",
    "Range=5000\n",
    "vis = Result(filename = File,pref=ImgPre,color='b',label=\"Query\",marker=None,linestyle=\":\")\n",
    "fig, (ax1, ax2,ax3) = plt.subplots(1, 3, figsize=(18,4))\n",
    "#Ver3.Plot(0,Valid,1000,ax1)\n",
    "vis.Plot(0,Valid,Range,ax1)\n",
    "ax1.set_title('$l_2$ (ImageNet,ResNet)',size=fontsize)\n",
    "ax1.set_ylabel('$l_2$ Distance',size=fontsize)\n",
    "\n",
    "\n",
    "vis.Plot(1,Valid,Range,ax2)\n",
    "ax2.set_title('$l_\\infty$ (ImageNet,ResNet)',size=fontsize)\n",
    "ax2.set_ylabel('$l_\\infty$ Distance',size=fontsize)\n",
    "\n",
    "infT = 16.01/255\n",
    "\n",
    "vis.ASR(1,Valid,Range,infT,ax3)\n",
    "\n",
    "\n",
    "ax3.set_title('ASR(ImageNet,ResNet)',size=fontsize)\n",
    "ax3.set_ylabel('Success rate',size=fontsize)\n",
    "\n",
    "\n",
    "\n",
    "fig.text(0.5, -0.00, 'Query budget', ha='center', va='center',fontsize=fontsize)\n",
    "\n",
    "handles, labels = ax3.get_legend_handles_labels()\n",
    "\n",
    "plt.legend(handles=handles,labels=labels,fontsize=fontsize,bbox_to_anchor=(1.7,0.5 ), loc=7, borderaxespad=0.)"
   ]
  },
  {
   "cell_type": "code",
   "execution_count": null,
   "id": "d6937274",
   "metadata": {},
   "outputs": [],
   "source": []
  }
 ],
 "metadata": {
  "kernelspec": {
   "display_name": "Python 3",
   "language": "python",
   "name": "python3"
  },
  "language_info": {
   "codemirror_mode": {
    "name": "ipython",
    "version": 3
   },
   "file_extension": ".py",
   "mimetype": "text/x-python",
   "name": "python",
   "nbconvert_exporter": "python",
   "pygments_lexer": "ipython3",
   "version": "3.8.5"
  }
 },
 "nbformat": 4,
 "nbformat_minor": 5
}
