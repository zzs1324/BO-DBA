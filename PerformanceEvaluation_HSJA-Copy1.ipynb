{
 "cells": [
  {
   "cell_type": "code",
   "execution_count": 1,
   "id": "76aef015",
   "metadata": {},
   "outputs": [
    {
     "name": "stderr",
     "output_type": "stream",
     "text": [
      "Using TensorFlow backend.\n",
      "2022-01-14 17:20:20.927814: I tensorflow/stream_executor/platform/default/dso_loader.cc:44] Successfully opened dynamic library libcuda.so.1\n",
      "2022-01-14 17:20:21.012865: I tensorflow/stream_executor/cuda/cuda_gpu_executor.cc:981] successful NUMA node read from SysFS had negative value (-1), but there must be at least one NUMA node, so returning NUMA node zero\n",
      "2022-01-14 17:20:21.013272: I tensorflow/core/common_runtime/gpu/gpu_device.cc:1555] Found device 0 with properties: \n",
      "pciBusID: 0000:01:00.0 name: NVIDIA GeForce RTX 2080 Ti computeCapability: 7.5\n",
      "coreClock: 1.755GHz coreCount: 68 deviceMemorySize: 10.76GiB deviceMemoryBandwidth: 573.69GiB/s\n",
      "2022-01-14 17:20:21.013319: I tensorflow/stream_executor/cuda/cuda_gpu_executor.cc:981] successful NUMA node read from SysFS had negative value (-1), but there must be at least one NUMA node, so returning NUMA node zero\n",
      "2022-01-14 17:20:21.013698: I tensorflow/core/common_runtime/gpu/gpu_device.cc:1555] Found device 1 with properties: \n",
      "pciBusID: 0000:02:00.0 name: NVIDIA GeForce RTX 2080 Ti computeCapability: 7.5\n",
      "coreClock: 1.755GHz coreCount: 68 deviceMemorySize: 10.74GiB deviceMemoryBandwidth: 573.69GiB/s\n",
      "2022-01-14 17:20:21.013832: I tensorflow/stream_executor/platform/default/dso_loader.cc:44] Successfully opened dynamic library libcudart.so.10.1\n",
      "2022-01-14 17:20:21.015029: I tensorflow/stream_executor/platform/default/dso_loader.cc:44] Successfully opened dynamic library libcublas.so.10\n",
      "2022-01-14 17:20:21.016093: I tensorflow/stream_executor/platform/default/dso_loader.cc:44] Successfully opened dynamic library libcufft.so.10\n",
      "2022-01-14 17:20:21.016263: I tensorflow/stream_executor/platform/default/dso_loader.cc:44] Successfully opened dynamic library libcurand.so.10\n",
      "2022-01-14 17:20:21.017448: I tensorflow/stream_executor/platform/default/dso_loader.cc:44] Successfully opened dynamic library libcusolver.so.10\n",
      "2022-01-14 17:20:21.018085: I tensorflow/stream_executor/platform/default/dso_loader.cc:44] Successfully opened dynamic library libcusparse.so.10\n",
      "2022-01-14 17:20:21.020619: I tensorflow/stream_executor/platform/default/dso_loader.cc:44] Successfully opened dynamic library libcudnn.so.7\n",
      "2022-01-14 17:20:21.020703: I tensorflow/stream_executor/cuda/cuda_gpu_executor.cc:981] successful NUMA node read from SysFS had negative value (-1), but there must be at least one NUMA node, so returning NUMA node zero\n",
      "2022-01-14 17:20:21.021132: I tensorflow/stream_executor/cuda/cuda_gpu_executor.cc:981] successful NUMA node read from SysFS had negative value (-1), but there must be at least one NUMA node, so returning NUMA node zero\n",
      "2022-01-14 17:20:21.021527: I tensorflow/stream_executor/cuda/cuda_gpu_executor.cc:981] successful NUMA node read from SysFS had negative value (-1), but there must be at least one NUMA node, so returning NUMA node zero\n",
      "2022-01-14 17:20:21.021920: I tensorflow/stream_executor/cuda/cuda_gpu_executor.cc:981] successful NUMA node read from SysFS had negative value (-1), but there must be at least one NUMA node, so returning NUMA node zero\n",
      "2022-01-14 17:20:21.022280: I tensorflow/core/common_runtime/gpu/gpu_device.cc:1697] Adding visible gpu devices: 0, 1\n",
      "2022-01-14 17:20:21.022643: I tensorflow/core/platform/cpu_feature_guard.cc:142] Your CPU supports instructions that this TensorFlow binary was not compiled to use: SSE4.1 SSE4.2 AVX AVX2 FMA\n",
      "2022-01-14 17:20:21.046329: I tensorflow/core/platform/profile_utils/cpu_utils.cc:94] CPU Frequency: 3600000000 Hz\n",
      "2022-01-14 17:20:21.046643: I tensorflow/compiler/xla/service/service.cc:168] XLA service 0x55a460ec0460 initialized for platform Host (this does not guarantee that XLA will be used). Devices:\n",
      "2022-01-14 17:20:21.046656: I tensorflow/compiler/xla/service/service.cc:176]   StreamExecutor device (0): Host, Default Version\n",
      "2022-01-14 17:20:21.198692: I tensorflow/stream_executor/cuda/cuda_gpu_executor.cc:981] successful NUMA node read from SysFS had negative value (-1), but there must be at least one NUMA node, so returning NUMA node zero\n",
      "2022-01-14 17:20:21.199049: I tensorflow/core/common_runtime/gpu/gpu_device.cc:1555] Found device 0 with properties: \n",
      "pciBusID: 0000:01:00.0 name: NVIDIA GeForce RTX 2080 Ti computeCapability: 7.5\n",
      "coreClock: 1.755GHz coreCount: 68 deviceMemorySize: 10.76GiB deviceMemoryBandwidth: 573.69GiB/s\n",
      "2022-01-14 17:20:21.199110: I tensorflow/stream_executor/cuda/cuda_gpu_executor.cc:981] successful NUMA node read from SysFS had negative value (-1), but there must be at least one NUMA node, so returning NUMA node zero\n",
      "2022-01-14 17:20:21.199432: I tensorflow/core/common_runtime/gpu/gpu_device.cc:1555] Found device 1 with properties: \n",
      "pciBusID: 0000:02:00.0 name: NVIDIA GeForce RTX 2080 Ti computeCapability: 7.5\n",
      "coreClock: 1.755GHz coreCount: 68 deviceMemorySize: 10.74GiB deviceMemoryBandwidth: 573.69GiB/s\n",
      "2022-01-14 17:20:21.199467: I tensorflow/stream_executor/platform/default/dso_loader.cc:44] Successfully opened dynamic library libcudart.so.10.1\n",
      "2022-01-14 17:20:21.199481: I tensorflow/stream_executor/platform/default/dso_loader.cc:44] Successfully opened dynamic library libcublas.so.10\n",
      "2022-01-14 17:20:21.199492: I tensorflow/stream_executor/platform/default/dso_loader.cc:44] Successfully opened dynamic library libcufft.so.10\n",
      "2022-01-14 17:20:21.199503: I tensorflow/stream_executor/platform/default/dso_loader.cc:44] Successfully opened dynamic library libcurand.so.10\n",
      "2022-01-14 17:20:21.199515: I tensorflow/stream_executor/platform/default/dso_loader.cc:44] Successfully opened dynamic library libcusolver.so.10\n",
      "2022-01-14 17:20:21.199526: I tensorflow/stream_executor/platform/default/dso_loader.cc:44] Successfully opened dynamic library libcusparse.so.10\n",
      "2022-01-14 17:20:21.199538: I tensorflow/stream_executor/platform/default/dso_loader.cc:44] Successfully opened dynamic library libcudnn.so.7\n",
      "2022-01-14 17:20:21.199576: I tensorflow/stream_executor/cuda/cuda_gpu_executor.cc:981] successful NUMA node read from SysFS had negative value (-1), but there must be at least one NUMA node, so returning NUMA node zero\n",
      "2022-01-14 17:20:21.199931: I tensorflow/stream_executor/cuda/cuda_gpu_executor.cc:981] successful NUMA node read from SysFS had negative value (-1), but there must be at least one NUMA node, so returning NUMA node zero\n",
      "2022-01-14 17:20:21.200275: I tensorflow/stream_executor/cuda/cuda_gpu_executor.cc:981] successful NUMA node read from SysFS had negative value (-1), but there must be at least one NUMA node, so returning NUMA node zero\n",
      "2022-01-14 17:20:21.200626: I tensorflow/stream_executor/cuda/cuda_gpu_executor.cc:981] successful NUMA node read from SysFS had negative value (-1), but there must be at least one NUMA node, so returning NUMA node zero\n",
      "2022-01-14 17:20:21.200939: I tensorflow/core/common_runtime/gpu/gpu_device.cc:1697] Adding visible gpu devices: 0, 1\n",
      "2022-01-14 17:20:21.200965: I tensorflow/stream_executor/platform/default/dso_loader.cc:44] Successfully opened dynamic library libcudart.so.10.1\n",
      "2022-01-14 17:20:21.201704: I tensorflow/core/common_runtime/gpu/gpu_device.cc:1096] Device interconnect StreamExecutor with strength 1 edge matrix:\n",
      "2022-01-14 17:20:21.201712: I tensorflow/core/common_runtime/gpu/gpu_device.cc:1102]      0 1 \n",
      "2022-01-14 17:20:21.201716: I tensorflow/core/common_runtime/gpu/gpu_device.cc:1115] 0:   N N \n",
      "2022-01-14 17:20:21.201718: I tensorflow/core/common_runtime/gpu/gpu_device.cc:1115] 1:   N N \n",
      "2022-01-14 17:20:21.201793: I tensorflow/stream_executor/cuda/cuda_gpu_executor.cc:981] successful NUMA node read from SysFS had negative value (-1), but there must be at least one NUMA node, so returning NUMA node zero\n",
      "2022-01-14 17:20:21.202152: I tensorflow/stream_executor/cuda/cuda_gpu_executor.cc:981] successful NUMA node read from SysFS had negative value (-1), but there must be at least one NUMA node, so returning NUMA node zero\n",
      "2022-01-14 17:20:21.202548: I tensorflow/stream_executor/cuda/cuda_gpu_executor.cc:981] successful NUMA node read from SysFS had negative value (-1), but there must be at least one NUMA node, so returning NUMA node zero\n",
      "2022-01-14 17:20:21.202905: I tensorflow/stream_executor/cuda/cuda_gpu_executor.cc:981] successful NUMA node read from SysFS had negative value (-1), but there must be at least one NUMA node, so returning NUMA node zero\n",
      "2022-01-14 17:20:21.203243: I tensorflow/core/common_runtime/gpu/gpu_device.cc:1241] Created TensorFlow device (/job:localhost/replica:0/task:0/device:GPU:0 with 10312 MB memory) -> physical GPU (device: 0, name: NVIDIA GeForce RTX 2080 Ti, pci bus id: 0000:01:00.0, compute capability: 7.5)\n",
      "2022-01-14 17:20:21.203494: I tensorflow/stream_executor/cuda/cuda_gpu_executor.cc:981] successful NUMA node read from SysFS had negative value (-1), but there must be at least one NUMA node, so returning NUMA node zero\n",
      "2022-01-14 17:20:21.203846: I tensorflow/stream_executor/cuda/cuda_gpu_executor.cc:981] successful NUMA node read from SysFS had negative value (-1), but there must be at least one NUMA node, so returning NUMA node zero\n",
      "2022-01-14 17:20:21.204169: I tensorflow/core/common_runtime/gpu/gpu_device.cc:1241] Created TensorFlow device (/job:localhost/replica:0/task:0/device:GPU:1 with 9710 MB memory) -> physical GPU (device: 1, name: NVIDIA GeForce RTX 2080 Ti, pci bus id: 0000:02:00.0, compute capability: 7.5)\n",
      "2022-01-14 17:20:21.205446: I tensorflow/compiler/xla/service/service.cc:168] XLA service 0x55a45ef24650 initialized for platform CUDA (this does not guarantee that XLA will be used). Devices:\n",
      "2022-01-14 17:20:21.205457: I tensorflow/compiler/xla/service/service.cc:176]   StreamExecutor device (0): NVIDIA GeForce RTX 2080 Ti, Compute Capability 7.5\n",
      "2022-01-14 17:20:21.205461: I tensorflow/compiler/xla/service/service.cc:176]   StreamExecutor device (1): NVIDIA GeForce RTX 2080 Ti, Compute Capability 7.5\n"
     ]
    }
   ],
   "source": [
    "from warnings import simplefilter \n",
    "simplefilter(action='ignore', category=FutureWarning)\n",
    "import random\n",
    "from  keras.preprocessingsingsing.image import save_img\n",
    "import tensorflow as tf\n",
    "import numpy as np\n",
    "import matplotlib as mpl\n",
    "import matplotlib.pyplot as plt\n",
    "from PIL import Image\n",
    "import io\n",
    "import os\n",
    "import yaml\n",
    "from Util import *\n",
    "from IPython import display\n",
    "%matplotlib inline"
   ]
  },
  {
   "cell_type": "code",
   "execution_count": 2,
   "id": "ccc6d228",
   "metadata": {},
   "outputs": [],
   "source": [
    "#Global configuration\n",
    "attackMode = 'Raw' #Raw: means without defense, Detection: With adversarial exmaples detection\n",
    "queryBudgets = 500 #Query Budgets\n",
    "NumberOfTest = 100 #Number of test images\n",
    "random.seed(42) #Set random seeds"
   ]
  },
  {
   "cell_type": "code",
   "execution_count": 3,
   "id": "21cd818c",
   "metadata": {},
   "outputs": [
    {
     "name": "stderr",
     "output_type": "stream",
     "text": [
      "2022-01-14 17:20:24.055972: I tensorflow/stream_executor/platform/default/dso_loader.cc:44] Successfully opened dynamic library libcublas.so.10\n",
      "2022-01-14 17:20:24.202257: I tensorflow/stream_executor/platform/default/dso_loader.cc:44] Successfully opened dynamic library libcudnn.so.7\n",
      "2022-01-14 17:20:24.873476: W tensorflow/stream_executor/gpu/redzone_allocator.cc:312] Not found: ./bin/ptxas not found\n",
      "Relying on driver to perform ptx compilation. This message will be only logged once.\n"
     ]
    },
    {
     "name": "stdout",
     "output_type": "stream",
     "text": [
      "6: 0.9942889\n",
      "2: 0.0026954121\n",
      "4: 0.0018765273\n",
      "3: 0.0010828591\n",
      "5: 5.5464036e-05\n",
      "9: 4.4001203e-07\n"
     ]
    },
    {
     "data": {
      "image/png": "[encoded data removed]",
      "text/plain": [
       "<Figure size 432x288 with 1 Axes>"
      ]
     },
     "metadata": {
      "needs_background": "light"
     },
     "output_type": "display_data"
    }
   ],
   "source": [
    "#Prepare test images\n",
    "File,ImgPre = ResultSave('HJSA-l2','./CIFAR')#Result saving folder and filename\n",
    "ImgSet=[]\n",
    "if os.path.isfile(File):\n",
    "    HISTORY = LOAD(File)#Load Checkpoint\n",
    "else:\n",
    "    HISTORY = []\n",
    "StartPoint=len(HISTORY)\n",
    "for i in range(NumberOfTest):\n",
    "    ImgSet.append(randomimg(mode=attackMode))\n",
    "display_images(ImgSet[-1].img)"
   ]
  },
  {
   "cell_type": "code",
   "execution_count": 4,
   "id": "b5356e69",
   "metadata": {},
   "outputs": [
    {
     "name": "stdout",
     "output_type": "stream",
     "text": [
      "round 0: "
     ]
    },
    {
     "data": {
      "application/vnd.jupyter.widget-view+json": {
       "model_id": "8a64acea59a7409bbd27cce0f1a30802",
       "version_major": 2,
       "version_minor": 0
      },
      "text/plain": [
       "  0%|          | 0/500 [00:00<?, ?it/s]"
      ]
     },
     "metadata": {},
     "output_type": "display_data"
    },
    {
     "name": "stdout",
     "output_type": "stream",
     "text": [
      "iteration: 1, l2 distance 3.3025E+00\n",
      "iteration: 2, l2 distance 2.3908E+00\n",
      "iteration: 3, l2 distance 1.9103E+00\n",
      "Attack result: L2:1.910292387008667, Linf:0.1301732212305069\n",
      "round 1: "
     ]
    },
    {
     "data": {
      "application/vnd.jupyter.widget-view+json": {
       "model_id": "d1ba8fa8c711424e9f1703616d45e2c6",
       "version_major": 2,
       "version_minor": 0
      },
      "text/plain": [
       "  0%|          | 0/500 [00:00<?, ?it/s]"
      ]
     },
     "metadata": {},
     "output_type": "display_data"
    },
    {
     "name": "stdout",
     "output_type": "stream",
     "text": [
      "iteration: 1, l2 distance 2.3875E+01\n",
      "iteration: 2, l2 distance 1.6936E+01\n",
      "iteration: 3, l2 distance 9.8374E+00\n",
      "Attack result: L2:9.837425231933594, Linf:0.3398210406303406\n",
      "round 2: Attack result: L2:27.64120101928711, Linf:1.0\n",
      "round 3: Attack result: L2:3.874685525894165, Linf:0.1242619976401329\n",
      "round 4: Attack result: L2:5.883572578430176, Linf:0.18540219962596893\n",
      "round 5: "
     ]
    },
    {
     "data": {
      "application/vnd.jupyter.widget-view+json": {
       "model_id": "9f5e110537fa44bbbc1b30b2fa31fb87",
       "version_major": 2,
       "version_minor": 0
      },
      "text/plain": [
       "  0%|          | 0/500 [00:00<?, ?it/s]"
      ]
     },
     "metadata": {},
     "output_type": "display_data"
    },
    {
     "name": "stdout",
     "output_type": "stream",
     "text": [
      "iteration: 1, l2 distance 2.1135E+00\n",
      "iteration: 2, l2 distance 1.4554E+00\n",
      "iteration: 3, l2 distance 1.0705E+00\n",
      "Attack result: L2:1.0704563856124878, Linf:0.06642311066389084\n",
      "round 6: "
     ]
    },
    {
     "data": {
      "application/vnd.jupyter.widget-view+json": {
       "model_id": "a2295a8abd284287b698273dba8ce0e8",
       "version_major": 2,
       "version_minor": 0
      },
      "text/plain": [
       "  0%|          | 0/500 [00:00<?, ?it/s]"
      ]
     },
     "metadata": {},
     "output_type": "display_data"
    },
    {
     "name": "stdout",
     "output_type": "stream",
     "text": [
      "iteration: 1, l2 distance 4.7023E+00\n",
      "iteration: 2, l2 distance 2.8145E+00\n",
      "iteration: 3, l2 distance 1.6926E+00\n",
      "Attack result: L2:1.692617416381836, Linf:0.10026873648166656\n",
      "round 7: "
     ]
    },
    {
     "data": {
      "application/vnd.jupyter.widget-view+json": {
       "model_id": "ab56b6905e9c48dda60ba799d9ff9c52",
       "version_major": 2,
       "version_minor": 0
      },
      "text/plain": [
       "  0%|          | 0/500 [00:00<?, ?it/s]"
      ]
     },
     "metadata": {},
     "output_type": "display_data"
    },
    {
     "name": "stdout",
     "output_type": "stream",
     "text": [
      "iteration: 1, l2 distance 2.2803E+00\n",
      "iteration: 2, l2 distance 1.0760E+00\n",
      "iteration: 3, l2 distance 6.7173E-01\n",
      "Attack result: L2:0.6717269420623779, Linf:0.04440626874566078\n",
      "round 8: Attack result: L2:5.866744518280029, Linf:0.18677806854248047\n",
      "round 9: Attack result: L2:7.718680381774902, Linf:0.24749647080898285\n",
      "round 10: "
     ]
    },
    {
     "data": {
      "application/vnd.jupyter.widget-view+json": {
       "model_id": "08a461b5e05049c8b4beedcdb57f4594",
       "version_major": 2,
       "version_minor": 0
      },
      "text/plain": [
       "  0%|          | 0/500 [00:00<?, ?it/s]"
      ]
     },
     "metadata": {},
     "output_type": "display_data"
    },
    {
     "name": "stdout",
     "output_type": "stream",
     "text": [
      "iteration: 1, l2 distance 4.4340E-01\n",
      "iteration: 2, l2 distance 1.7915E-01\n",
      "iteration: 3, l2 distance 1.1794E-01\n",
      "Attack result: L2:0.11794411391019821, Linf:0.006950467824935913\n",
      "round 11: "
     ]
    },
    {
     "data": {
      "application/vnd.jupyter.widget-view+json": {
       "model_id": "fa798249826b4e14aa24c442cc4f34a4",
       "version_major": 2,
       "version_minor": 0
      },
      "text/plain": [
       "  0%|          | 0/500 [00:00<?, ?it/s]"
      ]
     },
     "metadata": {},
     "output_type": "display_data"
    },
    {
     "name": "stdout",
     "output_type": "stream",
     "text": [
      "iteration: 1, l2 distance 3.3085E+00\n",
      "iteration: 2, l2 distance 2.1782E+00\n",
      "iteration: 3, l2 distance 1.6362E+00\n",
      "Attack result: L2:1.6362242698669434, Linf:0.10120093822479248\n",
      "round 12: Attack result: L2:7.711510181427002, Linf:0.24851280450820923\n",
      "round 13: Attack result: L2:13.665413856506348, Linf:0.43667536973953247\n",
      "round 14: Attack result: L2:25.80890655517578, Linf:0.9019607827067375\n",
      "round 15: Attack result: L2:3.978571653366089, Linf:0.12339720129966736\n",
      "round 16: Attack result: L2:16.089433670043945, Linf:0.5606003403663635\n",
      "round 17: Attack result: L2:5.723519802093506, Linf:0.18479964137077332\n",
      "round 18: Attack result: L2:11.758322715759277, Linf:0.5608763098716736\n",
      "round 19: "
     ]
    },
    {
     "data": {
      "application/vnd.jupyter.widget-view+json": {
       "model_id": "9ba0064dc97c4199acfde60aa93fcd41",
       "version_major": 2,
       "version_minor": 0
      },
      "text/plain": [
       "  0%|          | 0/500 [00:00<?, ?it/s]"
      ]
     },
     "metadata": {},
     "output_type": "display_data"
    },
    {
     "name": "stdout",
     "output_type": "stream",
     "text": [
      "iteration: 1, l2 distance 3.8631E+00\n",
      "iteration: 2, l2 distance 1.9052E+00\n",
      "iteration: 3, l2 distance 1.2301E+00\n",
      "Attack result: L2:1.230139136314392, Linf:0.08036573231220245\n",
      "round 20: Attack result: L2:8.315169334411621, Linf:0.3086645305156708\n",
      "round 21: Attack result: L2:7.938920497894287, Linf:0.24943983554840088\n",
      "round 22: "
     ]
    },
    {
     "data": {
      "application/vnd.jupyter.widget-view+json": {
       "model_id": "54b176fb88f94167b9167b87fa528664",
       "version_major": 2,
       "version_minor": 0
      },
      "text/plain": [
       "  0%|          | 0/500 [00:00<?, ?it/s]"
      ]
     },
     "metadata": {},
     "output_type": "display_data"
    },
    {
     "name": "stdout",
     "output_type": "stream",
     "text": [
      "iteration: 1, l2 distance 5.4386E+00\n",
      "iteration: 2, l2 distance 4.0967E+00\n",
      "iteration: 3, l2 distance 3.2597E+00\n",
      "Attack result: L2:3.2596912384033203, Linf:0.230431467294693\n",
      "round 23: "
     ]
    },
    {
     "data": {
      "application/vnd.jupyter.widget-view+json": {
       "model_id": "b04970c5be3549a5af04f59f77cb2e71",
       "version_major": 2,
       "version_minor": 0
      },
      "text/plain": [
       "  0%|          | 0/500 [00:00<?, ?it/s]"
      ]
     },
     "metadata": {},
     "output_type": "display_data"
    },
    {
     "name": "stdout",
     "output_type": "stream",
     "text": [
      "iteration: 1, l2 distance 9.4229E-02\n",
      "iteration: 2, l2 distance 5.8481E-02\n",
      "iteration: 3, l2 distance 4.0838E-02\n",
      "Attack result: L2:0.04083757847547531, Linf:0.0027685165405273438\n",
      "round 24: Attack result: L2:7.449419975280762, Linf:0.2482450008392334\n",
      "round 25: Attack result: L2:13.28865909576416, Linf:0.49618953466415405\n",
      "round 26: Attack result: L2:7.864437580108643, Linf:0.2495010495185852\n",
      "round 27: "
     ]
    },
    {
     "data": {
      "application/vnd.jupyter.widget-view+json": {
       "model_id": "b4dc9d595f1148caa68a487157b1e7c2",
       "version_major": 2,
       "version_minor": 0
      },
      "text/plain": [
       "  0%|          | 0/500 [00:00<?, ?it/s]"
      ]
     },
     "metadata": {},
     "output_type": "display_data"
    },
    {
     "name": "stdout",
     "output_type": "stream",
     "text": [
      "iteration: 1, l2 distance 3.9086E+00\n",
      "iteration: 2, l2 distance 2.9660E+00\n",
      "iteration: 3, l2 distance 2.3876E+00\n",
      "Attack result: L2:2.3875515460968018, Linf:0.1534184217453003\n",
      "round 28: Attack result: L2:5.699559211730957, Linf:0.1865832805633545\n",
      "round 29: "
     ]
    },
    {
     "data": {
      "application/vnd.jupyter.widget-view+json": {
       "model_id": "ad49ab23759b44a5bc456e1556a72a05",
       "version_major": 2,
       "version_minor": 0
      },
      "text/plain": [
       "  0%|          | 0/500 [00:00<?, ?it/s]"
      ]
     },
     "metadata": {},
     "output_type": "display_data"
    },
    {
     "name": "stdout",
     "output_type": "stream",
     "text": [
      "iteration: 1, l2 distance 2.1676E+00\n",
      "iteration: 2, l2 distance 1.4673E+00\n",
      "iteration: 3, l2 distance 1.1498E+00\n",
      "Attack result: L2:1.1498329639434814, Linf:0.0801122784614563\n",
      "round 30: Attack result: L2:1.9285614490509033, Linf:0.0624585896730423\n",
      "round 31: Attack result: L2:7.527379512786865, Linf:0.2478560358285904\n",
      "round 32: "
     ]
    },
    {
     "data": {
      "application/vnd.jupyter.widget-view+json": {
       "model_id": "80131dca7533464cb6d9ff4b3b891429",
       "version_major": 2,
       "version_minor": 0
      },
      "text/plain": [
       "  0%|          | 0/500 [00:00<?, ?it/s]"
      ]
     },
     "metadata": {},
     "output_type": "display_data"
    },
    {
     "name": "stdout",
     "output_type": "stream",
     "text": [
      "iteration: 1, l2 distance 4.4499E+00\n",
      "iteration: 2, l2 distance 3.2175E+00\n",
      "iteration: 3, l2 distance 2.4734E+00\n",
      "Attack result: L2:2.4734437465667725, Linf:0.15820817649364471\n",
      "round 33: Attack result: L2:5.910214424133301, Linf:0.18656741082668304\n",
      "round 34: Attack result: L2:9.531765937805176, Linf:0.3106284737586975\n",
      "round 35: Attack result: L2:30.772785186767578, Linf:0.9882352938875556\n",
      "round 36: "
     ]
    },
    {
     "data": {
      "application/vnd.jupyter.widget-view+json": {
       "model_id": "ea1ef9e2183e40b88d4ee0ad5b0a1c0d",
       "version_major": 2,
       "version_minor": 0
      },
      "text/plain": [
       "  0%|          | 0/500 [00:00<?, ?it/s]"
      ]
     },
     "metadata": {},
     "output_type": "display_data"
    },
    {
     "name": "stdout",
     "output_type": "stream",
     "text": [
      "iteration: 1, l2 distance 4.9547E+00\n",
      "iteration: 2, l2 distance 3.6320E+00\n",
      "iteration: 3, l2 distance 3.0825E+00\n",
      "Attack result: L2:3.0824966430664062, Linf:0.22328513860702515\n",
      "round 37: Attack result: L2:11.722557067871094, Linf:0.4352647066116333\n",
      "round 38: Attack result: L2:5.753267288208008, Linf:0.18687918782234192\n",
      "round 39: "
     ]
    },
    {
     "data": {
      "application/vnd.jupyter.widget-view+json": {
       "model_id": "d38664046d4a4c9b9de32a71b9eebf22",
       "version_major": 2,
       "version_minor": 0
      },
      "text/plain": [
       "  0%|          | 0/500 [00:00<?, ?it/s]"
      ]
     },
     "metadata": {},
     "output_type": "display_data"
    },
    {
     "name": "stdout",
     "output_type": "stream",
     "text": [
      "iteration: 1, l2 distance 2.6632E+00\n",
      "iteration: 2, l2 distance 1.4835E+00\n",
      "iteration: 3, l2 distance 1.1137E+00\n",
      "Attack result: L2:1.1136802434921265, Linf:0.07159510254859924\n",
      "round 40: Attack result: L2:13.8849458694458, Linf:0.49745386838912964\n",
      "round 41: Attack result: L2:24.486208601048347, Linf:0.9176470562815666\n",
      "round 42: "
     ]
    },
    {
     "data": {
      "application/vnd.jupyter.widget-view+json": {
       "model_id": "e71879a5920944dfa7476c518deecef9",
       "version_major": 2,
       "version_minor": 0
      },
      "text/plain": [
       "  0%|          | 0/500 [00:00<?, ?it/s]"
      ]
     },
     "metadata": {},
     "output_type": "display_data"
    },
    {
     "name": "stdout",
     "output_type": "stream",
     "text": [
      "iteration: 1, l2 distance 2.5818E+00\n",
      "iteration: 2, l2 distance 1.5340E+00\n",
      "iteration: 3, l2 distance 1.1737E+00\n",
      "Attack result: L2:1.173668622970581, Linf:0.08604368567466736\n",
      "round 43: Attack result: L2:3.8892016410827637, Linf:0.12385839223861694\n",
      "round 44: "
     ]
    },
    {
     "data": {
      "application/vnd.jupyter.widget-view+json": {
       "model_id": "b972743883a546b883554227fc06d029",
       "version_major": 2,
       "version_minor": 0
      },
      "text/plain": [
       "  0%|          | 0/500 [00:00<?, ?it/s]"
      ]
     },
     "metadata": {},
     "output_type": "display_data"
    },
    {
     "name": "stdout",
     "output_type": "stream",
     "text": [
      "iteration: 1, l2 distance 7.2191E-01\n",
      "iteration: 2, l2 distance 2.2386E-01\n",
      "iteration: 3, l2 distance 1.3645E-01\n",
      "Attack result: L2:0.13644881546497345, Linf:0.008108019828796387\n",
      "round 45: Attack result: L2:38.4310302734375, Linf:1.0\n",
      "round 46: Attack result: L2:3.9488637447357178, Linf:0.12420608103275299\n",
      "round 47: Attack result: L2:3.0432910919189453, Linf:0.12300726771354675\n",
      "round 48: "
     ]
    },
    {
     "data": {
      "application/vnd.jupyter.widget-view+json": {
       "model_id": "4b118368dfba4ec5a240de75f87d0558",
       "version_major": 2,
       "version_minor": 0
      },
      "text/plain": [
       "  0%|          | 0/500 [00:00<?, ?it/s]"
      ]
     },
     "metadata": {},
     "output_type": "display_data"
    },
    {
     "name": "stdout",
     "output_type": "stream",
     "text": [
      "iteration: 1, l2 distance 1.7145E+00\n",
      "iteration: 2, l2 distance 1.1217E+00\n",
      "iteration: 3, l2 distance 8.4090E-01\n",
      "Attack result: L2:0.8408956527709961, Linf:0.05642884969711304\n",
      "round 49: "
     ]
    },
    {
     "data": {
      "application/vnd.jupyter.widget-view+json": {
       "model_id": "1008ee923c3541f8b0320071a7ba9748",
       "version_major": 2,
       "version_minor": 0
      },
      "text/plain": [
       "  0%|          | 0/500 [00:00<?, ?it/s]"
      ]
     },
     "metadata": {},
     "output_type": "display_data"
    },
    {
     "name": "stdout",
     "output_type": "stream",
     "text": [
      "iteration: 1, l2 distance 2.1037E+00\n",
      "iteration: 2, l2 distance 1.1926E+00\n",
      "iteration: 3, l2 distance 8.8069E-01\n",
      "Attack result: L2:0.8806904554367065, Linf:0.05354749411344528\n",
      "round 50: "
     ]
    },
    {
     "data": {
      "application/vnd.jupyter.widget-view+json": {
       "model_id": "e85b816d289c4ba4a0183bc30f546d45",
       "version_major": 2,
       "version_minor": 0
      },
      "text/plain": [
       "  0%|          | 0/500 [00:00<?, ?it/s]"
      ]
     },
     "metadata": {},
     "output_type": "display_data"
    },
    {
     "name": "stdout",
     "output_type": "stream",
     "text": [
      "iteration: 1, l2 distance 3.2491E+00\n",
      "iteration: 2, l2 distance 2.1517E+00\n",
      "iteration: 3, l2 distance 1.6044E+00\n",
      "Attack result: L2:1.6043580770492554, Linf:0.10176191478967667\n",
      "round 51: Attack result: L2:12.799887657165527, Linf:0.6791338920593262\n",
      "round 52: Attack result: L2:8.407845497131348, Linf:0.37115350365638733\n",
      "round 53: "
     ]
    },
    {
     "data": {
      "application/vnd.jupyter.widget-view+json": {
       "model_id": "165e52b2dd474484989acfb2d18d99c0",
       "version_major": 2,
       "version_minor": 0
      },
      "text/plain": [
       "  0%|          | 0/500 [00:00<?, ?it/s]"
      ]
     },
     "metadata": {},
     "output_type": "display_data"
    },
    {
     "name": "stdout",
     "output_type": "stream",
     "text": [
      "iteration: 1, l2 distance 3.4574E+00\n",
      "iteration: 2, l2 distance 2.2906E+00\n",
      "iteration: 3, l2 distance 1.8611E+00\n",
      "Attack result: L2:1.8610596656799316, Linf:0.14839348196983337\n",
      "round 54: "
     ]
    },
    {
     "data": {
      "application/vnd.jupyter.widget-view+json": {
       "model_id": "86966f2f312b47e68703162a41aa9c4f",
       "version_major": 2,
       "version_minor": 0
      },
      "text/plain": [
       "  0%|          | 0/500 [00:00<?, ?it/s]"
      ]
     },
     "metadata": {},
     "output_type": "display_data"
    },
    {
     "name": "stdout",
     "output_type": "stream",
     "text": [
      "iteration: 1, l2 distance 3.8163E+00\n",
      "iteration: 2, l2 distance 2.4782E+00\n",
      "iteration: 3, l2 distance 1.8112E+00\n",
      "Attack result: L2:1.811231255531311, Linf:0.10590934753417969\n",
      "round 55: Attack result: L2:5.835903644561768, Linf:0.1858864277601242\n",
      "round 56: Attack result: L2:5.770465850830078, Linf:0.1849099099636078\n",
      "round 57: "
     ]
    },
    {
     "data": {
      "application/vnd.jupyter.widget-view+json": {
       "model_id": "2407bd6344b54c3b8467cf6d13f40e19",
       "version_major": 2,
       "version_minor": 0
      },
      "text/plain": [
       "  0%|          | 0/500 [00:00<?, ?it/s]"
      ]
     },
     "metadata": {},
     "output_type": "display_data"
    },
    {
     "name": "stdout",
     "output_type": "stream",
     "text": [
      "iteration: 1, l2 distance 3.5547E+00\n",
      "iteration: 2, l2 distance 2.3687E+00\n",
      "iteration: 3, l2 distance 1.6201E+00\n",
      "Attack result: L2:1.6201411485671997, Linf:0.12410233914852142\n",
      "round 58: Attack result: L2:9.719817161560059, Linf:0.3115067481994629\n",
      "round 59: Attack result: L2:13.16097354888916, Linf:0.7450223565101624\n",
      "round 60: "
     ]
    },
    {
     "data": {
      "application/vnd.jupyter.widget-view+json": {
       "model_id": "51d87beb4d71485aab03d92ce798018a",
       "version_major": 2,
       "version_minor": 0
      },
      "text/plain": [
       "  0%|          | 0/500 [00:00<?, ?it/s]"
      ]
     },
     "metadata": {},
     "output_type": "display_data"
    },
    {
     "name": "stdout",
     "output_type": "stream",
     "text": [
      "iteration: 1, l2 distance 2.8516E+01\n",
      "iteration: 2, l2 distance 2.5916E+01\n",
      "iteration: 3, l2 distance 2.1721E+01\n",
      "Attack result: L2:21.720767974853516, Linf:0.7054056525230408\n",
      "round 61: "
     ]
    },
    {
     "data": {
      "application/vnd.jupyter.widget-view+json": {
       "model_id": "784e486af06347c1a4b7e1e32ad042dc",
       "version_major": 2,
       "version_minor": 0
      },
      "text/plain": [
       "  0%|          | 0/500 [00:00<?, ?it/s]"
      ]
     },
     "metadata": {},
     "output_type": "display_data"
    },
    {
     "name": "stdout",
     "output_type": "stream",
     "text": [
      "iteration: 1, l2 distance 2.8225E+00\n",
      "iteration: 2, l2 distance 1.5298E+00\n",
      "iteration: 3, l2 distance 1.1185E+00\n",
      "Attack result: L2:1.118475317955017, Linf:0.08195874094963074\n",
      "round 62: Attack result: L2:3.936330795288086, Linf:0.12468662112951279\n",
      "round 63: "
     ]
    },
    {
     "data": {
      "application/vnd.jupyter.widget-view+json": {
       "model_id": "a959515e96fb421c8a06d763101b119b",
       "version_major": 2,
       "version_minor": 0
      },
      "text/plain": [
       "  0%|          | 0/500 [00:00<?, ?it/s]"
      ]
     },
     "metadata": {},
     "output_type": "display_data"
    },
    {
     "name": "stdout",
     "output_type": "stream",
     "text": [
      "iteration: 1, l2 distance 1.4913E+00\n",
      "iteration: 2, l2 distance 7.5332E-01\n",
      "iteration: 3, l2 distance 4.7157E-01\n",
      "Attack result: L2:0.47156569361686707, Linf:0.031875401735305786\n",
      "round 64: "
     ]
    },
    {
     "data": {
      "application/vnd.jupyter.widget-view+json": {
       "model_id": "aba7fce4fdc6401eaaeffb29404fe14b",
       "version_major": 2,
       "version_minor": 0
      },
      "text/plain": [
       "  0%|          | 0/500 [00:00<?, ?it/s]"
      ]
     },
     "metadata": {},
     "output_type": "display_data"
    },
    {
     "name": "stdout",
     "output_type": "stream",
     "text": [
      "iteration: 1, l2 distance 3.0699E+01\n",
      "iteration: 2, l2 distance 2.1937E+01\n",
      "iteration: 3, l2 distance 1.0093E+01\n",
      "Attack result: L2:10.09329891204834, Linf:0.3178718686103821\n",
      "round 65: "
     ]
    },
    {
     "data": {
      "application/vnd.jupyter.widget-view+json": {
       "model_id": "4c5e90df83544aa792b5367e194773c0",
       "version_major": 2,
       "version_minor": 0
      },
      "text/plain": [
       "  0%|          | 0/500 [00:00<?, ?it/s]"
      ]
     },
     "metadata": {},
     "output_type": "display_data"
    },
    {
     "name": "stdout",
     "output_type": "stream",
     "text": [
      "iteration: 1, l2 distance 4.2758E+00\n",
      "iteration: 2, l2 distance 2.2194E+00\n",
      "iteration: 3, l2 distance 1.6185E+00\n",
      "Attack result: L2:1.6184518337249756, Linf:0.09499359130859375\n",
      "round 66: "
     ]
    },
    {
     "data": {
      "application/vnd.jupyter.widget-view+json": {
       "model_id": "9c4b4b1d9d734891a5d47b042b9bd3fa",
       "version_major": 2,
       "version_minor": 0
      },
      "text/plain": [
       "  0%|          | 0/500 [00:00<?, ?it/s]"
      ]
     },
     "metadata": {},
     "output_type": "display_data"
    },
    {
     "name": "stdout",
     "output_type": "stream",
     "text": [
      "iteration: 1, l2 distance 2.1571E+00\n",
      "iteration: 2, l2 distance 1.3675E+00\n",
      "iteration: 3, l2 distance 9.7941E-01\n",
      "Attack result: L2:0.9794074296951294, Linf:0.06226189434528351\n",
      "round 67: Attack result: L2:7.734895706176758, Linf:0.2475641816854477\n",
      "round 68: "
     ]
    },
    {
     "data": {
      "application/vnd.jupyter.widget-view+json": {
       "model_id": "1189136f3a3f4a588dcda144d1d38fd1",
       "version_major": 2,
       "version_minor": 0
      },
      "text/plain": [
       "  0%|          | 0/500 [00:00<?, ?it/s]"
      ]
     },
     "metadata": {},
     "output_type": "display_data"
    },
    {
     "name": "stdout",
     "output_type": "stream",
     "text": [
      "iteration: 1, l2 distance 1.5249E+00\n",
      "iteration: 2, l2 distance 9.1406E-01\n",
      "iteration: 3, l2 distance 5.3555E-01\n",
      "Attack result: L2:0.5355494022369385, Linf:0.03564554452896118\n",
      "round 69: Attack result: L2:3.9527482986450195, Linf:0.12459301948547363\n",
      "round 70: Attack result: L2:3.9163146018981934, Linf:0.12377780675888062\n",
      "round 71: Attack result: L2:9.36531925201416, Linf:0.30939793586730957\n",
      "round 72: "
     ]
    },
    {
     "data": {
      "application/vnd.jupyter.widget-view+json": {
       "model_id": "d8b0a7b285b0473e8e6fd23cd901b89f",
       "version_major": 2,
       "version_minor": 0
      },
      "text/plain": [
       "  0%|          | 0/500 [00:00<?, ?it/s]"
      ]
     },
     "metadata": {},
     "output_type": "display_data"
    },
    {
     "name": "stdout",
     "output_type": "stream",
     "text": [
      "iteration: 1, l2 distance 5.8775E+00\n",
      "iteration: 2, l2 distance 2.9043E+00\n",
      "iteration: 3, l2 distance 1.9757E+00\n",
      "Attack result: L2:1.97573721408844, Linf:0.14179791510105133\n",
      "round 73: Attack result: L2:1.958919882774353, Linf:0.06227511912584305\n",
      "round 74: "
     ]
    },
    {
     "data": {
      "application/vnd.jupyter.widget-view+json": {
       "model_id": "3012fb418bfb46fcaac7273a52dd20ea",
       "version_major": 2,
       "version_minor": 0
      },
      "text/plain": [
       "  0%|          | 0/500 [00:00<?, ?it/s]"
      ]
     },
     "metadata": {},
     "output_type": "display_data"
    },
    {
     "name": "stdout",
     "output_type": "stream",
     "text": [
      "iteration: 1, l2 distance 2.9119E+01\n",
      "iteration: 2, l2 distance 2.7318E+01\n",
      "iteration: 3, l2 distance 1.8666E+01\n",
      "Attack result: L2:18.666095733642578, Linf:0.6746467351913452\n",
      "round 75: Attack result: L2:3.907118320465088, Linf:0.12419752776622772\n",
      "round 76: Attack result: L2:7.421365261077881, Linf:0.24828247725963593\n",
      "round 77: Attack result: L2:11.406746864318848, Linf:0.43274152278900146\n",
      "round 78: Attack result: L2:10.95820140838623, Linf:0.37137919664382935\n",
      "round 79: Attack result: L2:1.9491301774978638, Linf:0.06171751022338867\n",
      "round 80: Attack result: L2:7.654048442840576, Linf:0.24817201495170593\n",
      "round 81: Attack result: L2:7.26810359954834, Linf:0.24634501338005066\n",
      "round 82: Attack result: L2:5.759512901306152, Linf:0.18607167899608612\n",
      "round 83: "
     ]
    },
    {
     "data": {
      "application/vnd.jupyter.widget-view+json": {
       "model_id": "bc63c1810c9e4f4cb67b152c88df9bf4",
       "version_major": 2,
       "version_minor": 0
      },
      "text/plain": [
       "  0%|          | 0/500 [00:00<?, ?it/s]"
      ]
     },
     "metadata": {},
     "output_type": "display_data"
    },
    {
     "name": "stdout",
     "output_type": "stream",
     "text": [
      "iteration: 1, l2 distance 3.6909E+00\n",
      "iteration: 2, l2 distance 2.9197E+00\n",
      "iteration: 3, l2 distance 2.4354E+00\n",
      "Attack result: L2:2.4353864192962646, Linf:0.15869775414466858\n",
      "round 84: Attack result: L2:12.450124740600586, Linf:0.43668133020401\n",
      "round 85: Attack result: L2:3.9209094047546387, Linf:0.12334267795085907\n",
      "round 86: "
     ]
    },
    {
     "data": {
      "application/vnd.jupyter.widget-view+json": {
       "model_id": "7f04badad8cc4b57a0e2457b470170b0",
       "version_major": 2,
       "version_minor": 0
      },
      "text/plain": [
       "  0%|          | 0/500 [00:00<?, ?it/s]"
      ]
     },
     "metadata": {},
     "output_type": "display_data"
    },
    {
     "name": "stdout",
     "output_type": "stream",
     "text": [
      "iteration: 1, l2 distance 5.3238E+00\n",
      "iteration: 2, l2 distance 4.0663E+00\n",
      "iteration: 3, l2 distance 3.4230E+00\n",
      "Attack result: L2:3.4229815006256104, Linf:0.23242305219173431\n",
      "round 87: Attack result: L2:7.852327346801758, Linf:0.24811796844005585\n",
      "round 88: "
     ]
    },
    {
     "data": {
      "application/vnd.jupyter.widget-view+json": {
       "model_id": "050e8012058c4f518424be0f1352b38c",
       "version_major": 2,
       "version_minor": 0
      },
      "text/plain": [
       "  0%|          | 0/500 [00:00<?, ?it/s]"
      ]
     },
     "metadata": {},
     "output_type": "display_data"
    },
    {
     "name": "stdout",
     "output_type": "stream",
     "text": [
      "iteration: 1, l2 distance 1.2341E+00\n",
      "iteration: 2, l2 distance 6.2129E-01\n",
      "iteration: 3, l2 distance 3.9210E-01\n",
      "Attack result: L2:0.39210325479507446, Linf:0.02737128734588623\n",
      "round 89: "
     ]
    },
    {
     "data": {
      "application/vnd.jupyter.widget-view+json": {
       "model_id": "c33fedee1857400eb7be95cce4ad143b",
       "version_major": 2,
       "version_minor": 0
      },
      "text/plain": [
       "  0%|          | 0/500 [00:00<?, ?it/s]"
      ]
     },
     "metadata": {},
     "output_type": "display_data"
    },
    {
     "name": "stdout",
     "output_type": "stream",
     "text": [
      "iteration: 1, l2 distance 1.0790E+00\n",
      "iteration: 2, l2 distance 7.3152E-01\n",
      "iteration: 3, l2 distance 5.0126E-01\n",
      "Attack result: L2:0.5012617111206055, Linf:0.031130149960517883\n",
      "round 90: Attack result: L2:24.287097930908203, Linf:0.7686274498701096\n",
      "round 91: Attack result: L2:15.614030838012695, Linf:0.5605959892272949\n",
      "round 92: Attack result: L2:5.863245964050293, Linf:0.18630287051200867\n",
      "round 93: Attack result: L2:13.430347442626953, Linf:0.434617817401886\n",
      "round 94: "
     ]
    },
    {
     "data": {
      "application/vnd.jupyter.widget-view+json": {
       "model_id": "22067b4ce41e46da9fbf056426639d29",
       "version_major": 2,
       "version_minor": 0
      },
      "text/plain": [
       "  0%|          | 0/500 [00:00<?, ?it/s]"
      ]
     },
     "metadata": {},
     "output_type": "display_data"
    },
    {
     "name": "stdout",
     "output_type": "stream",
     "text": [
      "iteration: 1, l2 distance 2.0413E+00\n",
      "iteration: 2, l2 distance 7.9622E-01\n",
      "iteration: 3, l2 distance 3.6845E-01\n",
      "Attack result: L2:0.36844974756240845, Linf:0.02192622423171997\n",
      "round 95: "
     ]
    },
    {
     "data": {
      "application/vnd.jupyter.widget-view+json": {
       "model_id": "bcf3b825a95642d798897be49be62a2b",
       "version_major": 2,
       "version_minor": 0
      },
      "text/plain": [
       "  0%|          | 0/500 [00:00<?, ?it/s]"
      ]
     },
     "metadata": {},
     "output_type": "display_data"
    },
    {
     "name": "stdout",
     "output_type": "stream",
     "text": [
      "iteration: 1, l2 distance 9.7086E-01\n",
      "iteration: 2, l2 distance 5.1311E-01\n",
      "iteration: 3, l2 distance 3.6897E-01\n",
      "Attack result: L2:0.3689737915992737, Linf:0.0222490131855011\n",
      "round 96: Attack result: L2:3.931628704071045, Linf:0.12405379116535187\n",
      "round 97: "
     ]
    },
    {
     "data": {
      "application/vnd.jupyter.widget-view+json": {
       "model_id": "33a2ec2931c341d98e8c29d7439b54e6",
       "version_major": 2,
       "version_minor": 0
      },
      "text/plain": [
       "  0%|          | 0/500 [00:00<?, ?it/s]"
      ]
     },
     "metadata": {},
     "output_type": "display_data"
    },
    {
     "name": "stdout",
     "output_type": "stream",
     "text": [
      "iteration: 1, l2 distance 7.8542E-01\n",
      "iteration: 2, l2 distance 5.1393E-01\n",
      "iteration: 3, l2 distance 3.6748E-01\n",
      "Attack result: L2:0.3674754798412323, Linf:0.024207700043916702\n",
      "round 98: "
     ]
    },
    {
     "data": {
      "application/vnd.jupyter.widget-view+json": {
       "model_id": "a896bbe0cea1479489944fc2d536ad10",
       "version_major": 2,
       "version_minor": 0
      },
      "text/plain": [
       "  0%|          | 0/500 [00:00<?, ?it/s]"
      ]
     },
     "metadata": {},
     "output_type": "display_data"
    },
    {
     "name": "stdout",
     "output_type": "stream",
     "text": [
      "iteration: 1, l2 distance 3.7699E-02\n",
      "iteration: 2, l2 distance 1.8053E-02\n",
      "iteration: 3, l2 distance 1.2118E-02\n",
      "Attack result: L2:0.012118015438318253, Linf:0.0008254647254943848\n",
      "round 99: Attack result: L2:43.05494689941406, Linf:0.9882352938875556\n"
     ]
    }
   ],
   "source": [
    "#Run the experiments\n",
    "from HJSA import hsja\n",
    "constraint = 'l2'#norm: l2; linf\n",
    "for i in range(len(HISTORY),NumberOfTest):\n",
    "    print(\"round \"+str(i),end=': ')\n",
    "    image = ImgSet[i]\n",
    "    if i<StartPoint:\n",
    "        continue\n",
    "    with tf.device('/GPU:0'): \n",
    "        timehistory,adversarial = hsja(image,constraint=constraint,max_query=queryBudgets)\n",
    "    if not adversarial is None:\n",
    "        np.save(ImgPre+str(i),adversarial)\n",
    "    print('Attack result: L2:{0}, Linf:{1}'.format(image.maxl2,image.maxlinf))\n",
    "    History=[image.historyl2,image.historylinf,timehistory]\n",
    "    HISTORY.append(History)\n",
    "    SAVE(File,HISTORY)\n"
   ]
  },
  {
   "cell_type": "code",
   "execution_count": 5,
   "id": "9782b06c",
   "metadata": {},
   "outputs": [
    {
     "name": "stdout",
     "output_type": "stream",
     "text": [
      "Setting up [LPIPS] perceptual loss: trunk [alex], v[0.1], spatial [off]\n",
      "Loading model from: /home/server2080ti/anaconda3/envs/Adv/lib/python3.8/site-packages/lpips/weights/v0.1/alex.pth\n",
      "(71, 2)\n",
      "3\n",
      "89.98643919589105\n",
      "0.22196149826049805\n"
     ]
    },
    {
     "data": {
      "text/plain": [
       "<matplotlib.legend.Legend at 0x7feb1652fd00>"
      ]
     },
     "execution_count": 5,
     "metadata": {},
     "output_type": "execute_result"
    },
    {
     "data": {
      "image/png": "[encoded data removed]",
      "text/plain": [
       "<Figure size 1296x288 with 3 Axes>"
      ]
     },
     "metadata": {
      "needs_background": "light"
     },
     "output_type": "display_data"
    }
   ],
   "source": [
    "from Visualization import Result\n",
    "Valid=100\n",
    "fontsize=20\n",
    "Range=5000\n",
    "vis = Result(filename = File,pref=ImgPre,color='b',label=\"Query\",marker=None,linestyle=\":\")\n",
    "fig, (ax1, ax2,ax3) = plt.subplots(1, 3, figsize=(18,4))\n",
    "#Ver3.Plot(0,Valid,1000,ax1)\n",
    "vis.Plot(0,Valid,Range,ax1)\n",
    "ax1.set_title('$l_2$ (ImageNet,ResNet)',size=fontsize)\n",
    "ax1.set_ylabel('$l_2$ Distance',size=fontsize)\n",
    "\n",
    "\n",
    "vis.Plot(1,Valid,Range,ax2)\n",
    "ax2.set_title('$l_\\infty$ (ImageNet,ResNet)',size=fontsize)\n",
    "ax2.set_ylabel('$l_\\infty$ Distance',size=fontsize)\n",
    "\n",
    "infT = 16.01/255\n",
    "\n",
    "vis.ASR(1,Valid,Range,infT,ax3)\n",
    "\n",
    "\n",
    "ax3.set_title('ASR(ImageNet,ResNet)',size=fontsize)\n",
    "ax3.set_ylabel('Success rate',size=fontsize)\n",
    "\n",
    "\n",
    "\n",
    "fig.text(0.5, -0.00, 'Query budget', ha='center', va='center',fontsize=fontsize)\n",
    "\n",
    "handles, labels = ax3.get_legend_handles_labels()\n",
    "\n",
    "plt.legend(handles=handles,labels=labels,fontsize=fontsize,bbox_to_anchor=(1.7,0.5 ), loc=7, borderaxespad=0.)"
   ]
  },
  {
   "cell_type": "code",
   "execution_count": null,
   "id": "d6937274",
   "metadata": {},
   "outputs": [],
   "source": []
  }
 ],
 "metadata": {
  "kernelspec": {
   "display_name": "Python 3 (ipykernel)",
   "language": "python",
   "name": "python3"
  },
  "language_info": {
   "codemirror_mode": {
    "name": "ipython",
    "version": 3
   },
   "file_extension": ".py",
   "mimetype": "text/x-python",
   "name": "python",
   "nbconvert_exporter": "python",
   "pygments_lexer": "ipython3",
   "version": "3.7.7"
  }
 },
 "nbformat": 4,
 "nbformat_minor": 5
}
